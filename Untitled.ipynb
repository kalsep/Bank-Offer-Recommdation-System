{
 "cells": [
  {
   "cell_type": "code",
   "execution_count": null,
   "id": "8f4f3493-8c9b-4c91-a4b2-1085e92a95ee",
   "metadata": {},
   "outputs": [],
   "source": []
  }
 ],
 "metadata": {
  "kernelspec": {
   "display_name": "",
   "name": ""
  },
  "language_info": {
   "name": ""
  }
 },
 "nbformat": 4,
 "nbformat_minor": 5
}
