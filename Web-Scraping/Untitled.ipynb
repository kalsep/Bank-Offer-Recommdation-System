{
 "cells": [
  {
   "cell_type": "code",
   "execution_count": 4,
   "id": "908bbae3-e27e-42ed-813b-797e48e0ef17",
   "metadata": {},
   "outputs": [],
   "source": [
    "from config import *\n",
    "\n",
    "url ='https://www.gyftr.com/sc-instavouchers/luxe-gift-card-–-armani-exchange-gift-vouchers'\n",
    "response = get_soup(url)\n",
    "redeem_link_div = response.find_all(\"div\",class_='col-6 col-sm-auto text-center')\n",
    "# Find the anchor tag\n",
    "redeem_link = None\n",
    "if redeem_link_div:\n",
    "    anchor_tag = redeem_link_div[0].find('a')\n",
    "    # Extract the link\n",
    "    if anchor_tag:\n",
    "        redeem_link = anchor_tag.get('href')"
   ]
  },
  {
   "cell_type": "code",
   "execution_count": 5,
   "id": "df74da3b-66e3-4c4f-b48c-2d34f0c128d2",
   "metadata": {},
   "outputs": [],
   "source": [
    "redeem_link"
   ]
  },
  {
   "cell_type": "code",
   "execution_count": null,
   "id": "073ee52d-f449-482a-8933-66ae6a308a74",
   "metadata": {},
   "outputs": [],
   "source": []
  }
 ],
 "metadata": {
  "kernelspec": {
   "display_name": "Python 3 (ipykernel)",
   "language": "python",
   "name": "python3"
  },
  "language_info": {
   "codemirror_mode": {
    "name": "ipython",
    "version": 3
   },
   "file_extension": ".py",
   "mimetype": "text/x-python",
   "name": "python",
   "nbconvert_exporter": "python",
   "pygments_lexer": "ipython3",
   "version": "3.12.2"
  }
 },
 "nbformat": 4,
 "nbformat_minor": 5
}
